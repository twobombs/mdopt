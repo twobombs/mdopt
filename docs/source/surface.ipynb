{
 "cells": [
  {
   "cell_type": "markdown",
   "metadata": {},
   "source": [
    "# Decoding Surface Code"
   ]
  },
  {
   "attachments": {},
   "cell_type": "markdown",
   "metadata": {},
   "source": [
    "In this experiment, we’ll use ``mdopt`` to decode the Surface Code. Hereafter, we assume an independent noise model as well as perfect syndrome measurements. We will create a Surface Code instance via the Hypergraph Product of two repetition codes. This example will be less pedagogical than the one with the Shor's code because we have already packaged all subroutines in a function. For a detailed overview of these subroutines the user is invited to read the Shor Code example."
   ]
  },
  {
   "cell_type": "code",
   "execution_count": null,
   "metadata": {},
   "outputs": [],
   "source": [
    "import numpy as np\n",
    "from tqdm import tqdm\n",
    "import qecstruct as qc\n",
    "import qecsim.paulitools as pt\n",
    "\n",
    "import matplotlib\n",
    "import matplotlib.pyplot as plt\n",
    "from matplotlib.colors import Normalize\n",
    "from matplotlib.ticker import FormatStrFormatter\n",
    "\n",
    "from mdopt.mps.utils import marginalise, create_custom_product_state\n",
    "from mdopt.contractor.contractor import mps_mpo_contract\n",
    "from mdopt.optimiser.utils import (\n",
    "    SWAP,\n",
    "    COPY_LEFT,\n",
    "    XOR_BULK,\n",
    "    XOR_LEFT,\n",
    "    XOR_RIGHT,\n",
    ")\n",
    "from decoding import (\n",
    "    apply_constraints,\n",
    "    apply_bitflip_bias,\n",
    ")\n",
    "from decoding import (\n",
    "    decode_css,\n",
    "    pauli_to_mps,\n",
    "    css_code_checks,\n",
    "    css_code_logicals,\n",
    "    css_code_logicals_sites,\n",
    "    css_code_constraint_sites,\n",
    "    generate_pauli_error_string,\n",
    ")"
   ]
  },
  {
   "cell_type": "code",
   "execution_count": null,
   "metadata": {},
   "outputs": [],
   "source": [
    "LATTICE_SIZE = 3\n",
    "NUM_EXPERIMENTS = 100\n",
    "\n",
    "SEED = 123\n",
    "seed_seq = np.random.SeedSequence(SEED)\n",
    "\n",
    "max_bond_dims = [512, 256, 128, 64, 32, 16, 8]\n",
    "error_rates = np.linspace(1e-2, 0.2, 21)\n",
    "failures_statistics = {}\n",
    "\n",
    "for CHI_MAX in max_bond_dims:\n",
    "    print(f\"CHI_MAX = {CHI_MAX}\")\n",
    "    for ERROR_RATE in tqdm(error_rates):\n",
    "        failures = []\n",
    "\n",
    "        for l in range(NUM_EXPERIMENTS):\n",
    "            new_seed = seed_seq.spawn(1)[0]\n",
    "            rng = np.random.default_rng(new_seed)\n",
    "            random_integer = rng.integers(1, 10**8 + 1)\n",
    "            SEED = random_integer\n",
    "\n",
    "            rep_code = qc.repetition_code(LATTICE_SIZE)\n",
    "            surface_code = qc.hypergraph_product(rep_code, rep_code)\n",
    "\n",
    "            error = generate_pauli_error_string(\n",
    "                len(surface_code), ERROR_RATE, seed=SEED\n",
    "            )\n",
    "            error = pauli_to_mps(error)\n",
    "\n",
    "            _, success = decode_css(\n",
    "                code=surface_code,\n",
    "                error=error,\n",
    "                chi_max=CHI_MAX,\n",
    "                bias_type=\"Depolarizing\",\n",
    "                bias_prob=ERROR_RATE,\n",
    "                renormalise=True,\n",
    "                silent=True,\n",
    "                contraction_strategy=\"Optimised\",\n",
    "            )\n",
    "\n",
    "            failures.append(1 - success)\n",
    "\n",
    "        failures_statistics[LATTICE_SIZE, CHI_MAX, ERROR_RATE] = failures"
   ]
  },
  {
   "cell_type": "code",
   "execution_count": null,
   "metadata": {},
   "outputs": [],
   "source": [
    "failure_rates = {}\n",
    "error_bars = {}\n",
    "\n",
    "for CHI_MAX in max_bond_dims:\n",
    "    for ERROR_RATE in error_rates:\n",
    "        failure_rates[LATTICE_SIZE, CHI_MAX, ERROR_RATE] = np.mean(\n",
    "            failures_statistics[LATTICE_SIZE, CHI_MAX, ERROR_RATE]\n",
    "        )\n",
    "        error_bars[LATTICE_SIZE, CHI_MAX, ERROR_RATE] = (\n",
    "            np.std(failures_statistics[LATTICE_SIZE, CHI_MAX, ERROR_RATE])\n",
    "            * 1.96  # Standart error of the mean with 95% confidence interval\n",
    "            / NUM_EXPERIMENTS\n",
    "        )"
   ]
  },
  {
   "cell_type": "code",
   "execution_count": null,
   "metadata": {},
   "outputs": [],
   "source": [
    "plt.figure(figsize=(5, 4))\n",
    "\n",
    "green_cmap = matplotlib.colormaps[\"viridis_r\"]\n",
    "norm = Normalize(vmin=0, vmax=len(max_bond_dims) - 1)\n",
    "\n",
    "for index, CHI_MAX in enumerate(max_bond_dims):\n",
    "    plt.errorbar(\n",
    "        error_rates,\n",
    "        [\n",
    "            failure_rates[LATTICE_SIZE, CHI_MAX, ERROR_RATE]\n",
    "            for ERROR_RATE in error_rates\n",
    "        ],\n",
    "        yerr=[\n",
    "            error_bars[LATTICE_SIZE, CHI_MAX, ERROR_RATE] for ERROR_RATE in error_rates\n",
    "        ],\n",
    "        fmt=\"o--\",\n",
    "        label=f\"System size: {LATTICE_SIZE}, max bond dim: {CHI_MAX}\",\n",
    "        linewidth=3,\n",
    "        color=green_cmap(norm(index)),\n",
    "    )\n",
    "\n",
    "plt.xscale(\"log\")\n",
    "plt.legend(fontsize=7)\n",
    "plt.xlabel(\"Error rate\")\n",
    "plt.ylabel(\"Failure rate\")\n",
    "plt.grid()\n",
    "\n",
    "plt.show()"
   ]
  },
  {
   "cell_type": "code",
   "execution_count": null,
   "metadata": {},
   "outputs": [],
   "source": []
  }
 ],
 "metadata": {
  "kernelspec": {
   "display_name": "mdopt-ZdbamFdU-py3.11",
   "language": "python",
   "name": "python3"
  },
  "language_info": {
   "codemirror_mode": {
    "name": "ipython",
    "version": 3
   },
   "file_extension": ".py",
   "mimetype": "text/x-python",
   "name": "python",
   "nbconvert_exporter": "python",
   "pygments_lexer": "ipython3",
   "version": "3.10.13"
  },
  "orig_nbformat": 4,
  "vscode": {
   "interpreter": {
    "hash": "64c06a7280c9749d5771a76ca6109d7df6b2615ddb3b9b0828f83fb315c7f8a2"
   }
  }
 },
 "nbformat": 4,
 "nbformat_minor": 2
}
